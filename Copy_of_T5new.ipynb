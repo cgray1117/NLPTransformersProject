{
  "nbformat": 4,
  "nbformat_minor": 0,
  "metadata": {
    "colab": {
      "name": "Copy of T5new.ipynb",
      "provenance": [],
      "collapsed_sections": [],
      "include_colab_link": true
    },
    "kernelspec": {
      "name": "python3",
      "display_name": "Python 3"
    },
    "language_info": {
      "name": "python"
    },
    "accelerator": "GPU",
    "widgets": {
      "application/vnd.jupyter.widget-state+json": {
        "bb62dce334a0407c8692e0b17d06cb53": {
          "model_module": "@jupyter-widgets/controls",
          "model_name": "HBoxModel",
          "model_module_version": "1.5.0",
          "state": {
            "_dom_classes": [],
            "_model_module": "@jupyter-widgets/controls",
            "_model_module_version": "1.5.0",
            "_model_name": "HBoxModel",
            "_view_count": null,
            "_view_module": "@jupyter-widgets/controls",
            "_view_module_version": "1.5.0",
            "_view_name": "HBoxView",
            "box_style": "",
            "children": [
              "IPY_MODEL_054352e52aa54d0198ec8cb065626667",
              "IPY_MODEL_774af4339eec41f99544ddf6e2aa4f9d",
              "IPY_MODEL_14169bd2556148648f7d0599bf409f61"
            ],
            "layout": "IPY_MODEL_a34ec8f6550045248f8ea24e0255424a"
          }
        },
        "054352e52aa54d0198ec8cb065626667": {
          "model_module": "@jupyter-widgets/controls",
          "model_name": "HTMLModel",
          "model_module_version": "1.5.0",
          "state": {
            "_dom_classes": [],
            "_model_module": "@jupyter-widgets/controls",
            "_model_module_version": "1.5.0",
            "_model_name": "HTMLModel",
            "_view_count": null,
            "_view_module": "@jupyter-widgets/controls",
            "_view_module_version": "1.5.0",
            "_view_name": "HTMLView",
            "description": "",
            "description_tooltip": null,
            "layout": "IPY_MODEL_c66329188fb843c884e138973da9b851",
            "placeholder": "​",
            "style": "IPY_MODEL_731959bb8a844754b372e389da03af79",
            "value": "Downloading spiece.model: 100%"
          }
        },
        "774af4339eec41f99544ddf6e2aa4f9d": {
          "model_module": "@jupyter-widgets/controls",
          "model_name": "FloatProgressModel",
          "model_module_version": "1.5.0",
          "state": {
            "_dom_classes": [],
            "_model_module": "@jupyter-widgets/controls",
            "_model_module_version": "1.5.0",
            "_model_name": "FloatProgressModel",
            "_view_count": null,
            "_view_module": "@jupyter-widgets/controls",
            "_view_module_version": "1.5.0",
            "_view_name": "ProgressView",
            "bar_style": "success",
            "description": "",
            "description_tooltip": null,
            "layout": "IPY_MODEL_19c0332399624573bbc4f3c7e860f165",
            "max": 791656,
            "min": 0,
            "orientation": "horizontal",
            "style": "IPY_MODEL_1c1d600346d84f9c9e69f83e3ce43057",
            "value": 791656
          }
        },
        "14169bd2556148648f7d0599bf409f61": {
          "model_module": "@jupyter-widgets/controls",
          "model_name": "HTMLModel",
          "model_module_version": "1.5.0",
          "state": {
            "_dom_classes": [],
            "_model_module": "@jupyter-widgets/controls",
            "_model_module_version": "1.5.0",
            "_model_name": "HTMLModel",
            "_view_count": null,
            "_view_module": "@jupyter-widgets/controls",
            "_view_module_version": "1.5.0",
            "_view_name": "HTMLView",
            "description": "",
            "description_tooltip": null,
            "layout": "IPY_MODEL_e27be40068be4645b658d7b8d21f30aa",
            "placeholder": "​",
            "style": "IPY_MODEL_cd57e7a79b59409c88a5cf47f79595c5",
            "value": " 773k/773k [00:01&lt;00:00, 482kB/s]"
          }
        },
        "a34ec8f6550045248f8ea24e0255424a": {
          "model_module": "@jupyter-widgets/base",
          "model_name": "LayoutModel",
          "model_module_version": "1.2.0",
          "state": {
            "_model_module": "@jupyter-widgets/base",
            "_model_module_version": "1.2.0",
            "_model_name": "LayoutModel",
            "_view_count": null,
            "_view_module": "@jupyter-widgets/base",
            "_view_module_version": "1.2.0",
            "_view_name": "LayoutView",
            "align_content": null,
            "align_items": null,
            "align_self": null,
            "border": null,
            "bottom": null,
            "display": null,
            "flex": null,
            "flex_flow": null,
            "grid_area": null,
            "grid_auto_columns": null,
            "grid_auto_flow": null,
            "grid_auto_rows": null,
            "grid_column": null,
            "grid_gap": null,
            "grid_row": null,
            "grid_template_areas": null,
            "grid_template_columns": null,
            "grid_template_rows": null,
            "height": null,
            "justify_content": null,
            "justify_items": null,
            "left": null,
            "margin": null,
            "max_height": null,
            "max_width": null,
            "min_height": null,
            "min_width": null,
            "object_fit": null,
            "object_position": null,
            "order": null,
            "overflow": null,
            "overflow_x": null,
            "overflow_y": null,
            "padding": null,
            "right": null,
            "top": null,
            "visibility": null,
            "width": null
          }
        },
        "c66329188fb843c884e138973da9b851": {
          "model_module": "@jupyter-widgets/base",
          "model_name": "LayoutModel",
          "model_module_version": "1.2.0",
          "state": {
            "_model_module": "@jupyter-widgets/base",
            "_model_module_version": "1.2.0",
            "_model_name": "LayoutModel",
            "_view_count": null,
            "_view_module": "@jupyter-widgets/base",
            "_view_module_version": "1.2.0",
            "_view_name": "LayoutView",
            "align_content": null,
            "align_items": null,
            "align_self": null,
            "border": null,
            "bottom": null,
            "display": null,
            "flex": null,
            "flex_flow": null,
            "grid_area": null,
            "grid_auto_columns": null,
            "grid_auto_flow": null,
            "grid_auto_rows": null,
            "grid_column": null,
            "grid_gap": null,
            "grid_row": null,
            "grid_template_areas": null,
            "grid_template_columns": null,
            "grid_template_rows": null,
            "height": null,
            "justify_content": null,
            "justify_items": null,
            "left": null,
            "margin": null,
            "max_height": null,
            "max_width": null,
            "min_height": null,
            "min_width": null,
            "object_fit": null,
            "object_position": null,
            "order": null,
            "overflow": null,
            "overflow_x": null,
            "overflow_y": null,
            "padding": null,
            "right": null,
            "top": null,
            "visibility": null,
            "width": null
          }
        },
        "731959bb8a844754b372e389da03af79": {
          "model_module": "@jupyter-widgets/controls",
          "model_name": "DescriptionStyleModel",
          "model_module_version": "1.5.0",
          "state": {
            "_model_module": "@jupyter-widgets/controls",
            "_model_module_version": "1.5.0",
            "_model_name": "DescriptionStyleModel",
            "_view_count": null,
            "_view_module": "@jupyter-widgets/base",
            "_view_module_version": "1.2.0",
            "_view_name": "StyleView",
            "description_width": ""
          }
        },
        "19c0332399624573bbc4f3c7e860f165": {
          "model_module": "@jupyter-widgets/base",
          "model_name": "LayoutModel",
          "model_module_version": "1.2.0",
          "state": {
            "_model_module": "@jupyter-widgets/base",
            "_model_module_version": "1.2.0",
            "_model_name": "LayoutModel",
            "_view_count": null,
            "_view_module": "@jupyter-widgets/base",
            "_view_module_version": "1.2.0",
            "_view_name": "LayoutView",
            "align_content": null,
            "align_items": null,
            "align_self": null,
            "border": null,
            "bottom": null,
            "display": null,
            "flex": null,
            "flex_flow": null,
            "grid_area": null,
            "grid_auto_columns": null,
            "grid_auto_flow": null,
            "grid_auto_rows": null,
            "grid_column": null,
            "grid_gap": null,
            "grid_row": null,
            "grid_template_areas": null,
            "grid_template_columns": null,
            "grid_template_rows": null,
            "height": null,
            "justify_content": null,
            "justify_items": null,
            "left": null,
            "margin": null,
            "max_height": null,
            "max_width": null,
            "min_height": null,
            "min_width": null,
            "object_fit": null,
            "object_position": null,
            "order": null,
            "overflow": null,
            "overflow_x": null,
            "overflow_y": null,
            "padding": null,
            "right": null,
            "top": null,
            "visibility": null,
            "width": null
          }
        },
        "1c1d600346d84f9c9e69f83e3ce43057": {
          "model_module": "@jupyter-widgets/controls",
          "model_name": "ProgressStyleModel",
          "model_module_version": "1.5.0",
          "state": {
            "_model_module": "@jupyter-widgets/controls",
            "_model_module_version": "1.5.0",
            "_model_name": "ProgressStyleModel",
            "_view_count": null,
            "_view_module": "@jupyter-widgets/base",
            "_view_module_version": "1.2.0",
            "_view_name": "StyleView",
            "bar_color": null,
            "description_width": ""
          }
        },
        "e27be40068be4645b658d7b8d21f30aa": {
          "model_module": "@jupyter-widgets/base",
          "model_name": "LayoutModel",
          "model_module_version": "1.2.0",
          "state": {
            "_model_module": "@jupyter-widgets/base",
            "_model_module_version": "1.2.0",
            "_model_name": "LayoutModel",
            "_view_count": null,
            "_view_module": "@jupyter-widgets/base",
            "_view_module_version": "1.2.0",
            "_view_name": "LayoutView",
            "align_content": null,
            "align_items": null,
            "align_self": null,
            "border": null,
            "bottom": null,
            "display": null,
            "flex": null,
            "flex_flow": null,
            "grid_area": null,
            "grid_auto_columns": null,
            "grid_auto_flow": null,
            "grid_auto_rows": null,
            "grid_column": null,
            "grid_gap": null,
            "grid_row": null,
            "grid_template_areas": null,
            "grid_template_columns": null,
            "grid_template_rows": null,
            "height": null,
            "justify_content": null,
            "justify_items": null,
            "left": null,
            "margin": null,
            "max_height": null,
            "max_width": null,
            "min_height": null,
            "min_width": null,
            "object_fit": null,
            "object_position": null,
            "order": null,
            "overflow": null,
            "overflow_x": null,
            "overflow_y": null,
            "padding": null,
            "right": null,
            "top": null,
            "visibility": null,
            "width": null
          }
        },
        "cd57e7a79b59409c88a5cf47f79595c5": {
          "model_module": "@jupyter-widgets/controls",
          "model_name": "DescriptionStyleModel",
          "model_module_version": "1.5.0",
          "state": {
            "_model_module": "@jupyter-widgets/controls",
            "_model_module_version": "1.5.0",
            "_model_name": "DescriptionStyleModel",
            "_view_count": null,
            "_view_module": "@jupyter-widgets/base",
            "_view_module_version": "1.2.0",
            "_view_name": "StyleView",
            "description_width": ""
          }
        },
        "44f24ea15b2f4a1880c4d58b415af4fc": {
          "model_module": "@jupyter-widgets/controls",
          "model_name": "HBoxModel",
          "model_module_version": "1.5.0",
          "state": {
            "_dom_classes": [],
            "_model_module": "@jupyter-widgets/controls",
            "_model_module_version": "1.5.0",
            "_model_name": "HBoxModel",
            "_view_count": null,
            "_view_module": "@jupyter-widgets/controls",
            "_view_module_version": "1.5.0",
            "_view_name": "HBoxView",
            "box_style": "",
            "children": [
              "IPY_MODEL_787a3f2202ff495a8b0621740e32d398",
              "IPY_MODEL_7697442c70464794a29137d9a7135bd0",
              "IPY_MODEL_1bb580c56e2d49e98e501438a307fce9"
            ],
            "layout": "IPY_MODEL_f784c2d79d9c4c1593fc8165397b360d"
          }
        },
        "787a3f2202ff495a8b0621740e32d398": {
          "model_module": "@jupyter-widgets/controls",
          "model_name": "HTMLModel",
          "model_module_version": "1.5.0",
          "state": {
            "_dom_classes": [],
            "_model_module": "@jupyter-widgets/controls",
            "_model_module_version": "1.5.0",
            "_model_name": "HTMLModel",
            "_view_count": null,
            "_view_module": "@jupyter-widgets/controls",
            "_view_module_version": "1.5.0",
            "_view_name": "HTMLView",
            "description": "",
            "description_tooltip": null,
            "layout": "IPY_MODEL_98c2b1147aea497488b5a25744cc629c",
            "placeholder": "​",
            "style": "IPY_MODEL_f6349e6a10e34d35828027610f07efad",
            "value": "Downloading config.json: 100%"
          }
        },
        "7697442c70464794a29137d9a7135bd0": {
          "model_module": "@jupyter-widgets/controls",
          "model_name": "FloatProgressModel",
          "model_module_version": "1.5.0",
          "state": {
            "_dom_classes": [],
            "_model_module": "@jupyter-widgets/controls",
            "_model_module_version": "1.5.0",
            "_model_name": "FloatProgressModel",
            "_view_count": null,
            "_view_module": "@jupyter-widgets/controls",
            "_view_module_version": "1.5.0",
            "_view_name": "ProgressView",
            "bar_style": "success",
            "description": "",
            "description_tooltip": null,
            "layout": "IPY_MODEL_66ea4acb0dea4630aef25e3afd57c677",
            "max": 1197,
            "min": 0,
            "orientation": "horizontal",
            "style": "IPY_MODEL_9c2ea1cb337649ac9b93cc77a3900c98",
            "value": 1197
          }
        },
        "1bb580c56e2d49e98e501438a307fce9": {
          "model_module": "@jupyter-widgets/controls",
          "model_name": "HTMLModel",
          "model_module_version": "1.5.0",
          "state": {
            "_dom_classes": [],
            "_model_module": "@jupyter-widgets/controls",
            "_model_module_version": "1.5.0",
            "_model_name": "HTMLModel",
            "_view_count": null,
            "_view_module": "@jupyter-widgets/controls",
            "_view_module_version": "1.5.0",
            "_view_name": "HTMLView",
            "description": "",
            "description_tooltip": null,
            "layout": "IPY_MODEL_ab41ded6a2ca4cd0ac2f30ca8b05463d",
            "placeholder": "​",
            "style": "IPY_MODEL_ba190627829d43cb83f0c1118bc5b941",
            "value": " 1.17k/1.17k [00:00&lt;00:00, 43.3kB/s]"
          }
        },
        "f784c2d79d9c4c1593fc8165397b360d": {
          "model_module": "@jupyter-widgets/base",
          "model_name": "LayoutModel",
          "model_module_version": "1.2.0",
          "state": {
            "_model_module": "@jupyter-widgets/base",
            "_model_module_version": "1.2.0",
            "_model_name": "LayoutModel",
            "_view_count": null,
            "_view_module": "@jupyter-widgets/base",
            "_view_module_version": "1.2.0",
            "_view_name": "LayoutView",
            "align_content": null,
            "align_items": null,
            "align_self": null,
            "border": null,
            "bottom": null,
            "display": null,
            "flex": null,
            "flex_flow": null,
            "grid_area": null,
            "grid_auto_columns": null,
            "grid_auto_flow": null,
            "grid_auto_rows": null,
            "grid_column": null,
            "grid_gap": null,
            "grid_row": null,
            "grid_template_areas": null,
            "grid_template_columns": null,
            "grid_template_rows": null,
            "height": null,
            "justify_content": null,
            "justify_items": null,
            "left": null,
            "margin": null,
            "max_height": null,
            "max_width": null,
            "min_height": null,
            "min_width": null,
            "object_fit": null,
            "object_position": null,
            "order": null,
            "overflow": null,
            "overflow_x": null,
            "overflow_y": null,
            "padding": null,
            "right": null,
            "top": null,
            "visibility": null,
            "width": null
          }
        },
        "98c2b1147aea497488b5a25744cc629c": {
          "model_module": "@jupyter-widgets/base",
          "model_name": "LayoutModel",
          "model_module_version": "1.2.0",
          "state": {
            "_model_module": "@jupyter-widgets/base",
            "_model_module_version": "1.2.0",
            "_model_name": "LayoutModel",
            "_view_count": null,
            "_view_module": "@jupyter-widgets/base",
            "_view_module_version": "1.2.0",
            "_view_name": "LayoutView",
            "align_content": null,
            "align_items": null,
            "align_self": null,
            "border": null,
            "bottom": null,
            "display": null,
            "flex": null,
            "flex_flow": null,
            "grid_area": null,
            "grid_auto_columns": null,
            "grid_auto_flow": null,
            "grid_auto_rows": null,
            "grid_column": null,
            "grid_gap": null,
            "grid_row": null,
            "grid_template_areas": null,
            "grid_template_columns": null,
            "grid_template_rows": null,
            "height": null,
            "justify_content": null,
            "justify_items": null,
            "left": null,
            "margin": null,
            "max_height": null,
            "max_width": null,
            "min_height": null,
            "min_width": null,
            "object_fit": null,
            "object_position": null,
            "order": null,
            "overflow": null,
            "overflow_x": null,
            "overflow_y": null,
            "padding": null,
            "right": null,
            "top": null,
            "visibility": null,
            "width": null
          }
        },
        "f6349e6a10e34d35828027610f07efad": {
          "model_module": "@jupyter-widgets/controls",
          "model_name": "DescriptionStyleModel",
          "model_module_version": "1.5.0",
          "state": {
            "_model_module": "@jupyter-widgets/controls",
            "_model_module_version": "1.5.0",
            "_model_name": "DescriptionStyleModel",
            "_view_count": null,
            "_view_module": "@jupyter-widgets/base",
            "_view_module_version": "1.2.0",
            "_view_name": "StyleView",
            "description_width": ""
          }
        },
        "66ea4acb0dea4630aef25e3afd57c677": {
          "model_module": "@jupyter-widgets/base",
          "model_name": "LayoutModel",
          "model_module_version": "1.2.0",
          "state": {
            "_model_module": "@jupyter-widgets/base",
            "_model_module_version": "1.2.0",
            "_model_name": "LayoutModel",
            "_view_count": null,
            "_view_module": "@jupyter-widgets/base",
            "_view_module_version": "1.2.0",
            "_view_name": "LayoutView",
            "align_content": null,
            "align_items": null,
            "align_self": null,
            "border": null,
            "bottom": null,
            "display": null,
            "flex": null,
            "flex_flow": null,
            "grid_area": null,
            "grid_auto_columns": null,
            "grid_auto_flow": null,
            "grid_auto_rows": null,
            "grid_column": null,
            "grid_gap": null,
            "grid_row": null,
            "grid_template_areas": null,
            "grid_template_columns": null,
            "grid_template_rows": null,
            "height": null,
            "justify_content": null,
            "justify_items": null,
            "left": null,
            "margin": null,
            "max_height": null,
            "max_width": null,
            "min_height": null,
            "min_width": null,
            "object_fit": null,
            "object_position": null,
            "order": null,
            "overflow": null,
            "overflow_x": null,
            "overflow_y": null,
            "padding": null,
            "right": null,
            "top": null,
            "visibility": null,
            "width": null
          }
        },
        "9c2ea1cb337649ac9b93cc77a3900c98": {
          "model_module": "@jupyter-widgets/controls",
          "model_name": "ProgressStyleModel",
          "model_module_version": "1.5.0",
          "state": {
            "_model_module": "@jupyter-widgets/controls",
            "_model_module_version": "1.5.0",
            "_model_name": "ProgressStyleModel",
            "_view_count": null,
            "_view_module": "@jupyter-widgets/base",
            "_view_module_version": "1.2.0",
            "_view_name": "StyleView",
            "bar_color": null,
            "description_width": ""
          }
        },
        "ab41ded6a2ca4cd0ac2f30ca8b05463d": {
          "model_module": "@jupyter-widgets/base",
          "model_name": "LayoutModel",
          "model_module_version": "1.2.0",
          "state": {
            "_model_module": "@jupyter-widgets/base",
            "_model_module_version": "1.2.0",
            "_model_name": "LayoutModel",
            "_view_count": null,
            "_view_module": "@jupyter-widgets/base",
            "_view_module_version": "1.2.0",
            "_view_name": "LayoutView",
            "align_content": null,
            "align_items": null,
            "align_self": null,
            "border": null,
            "bottom": null,
            "display": null,
            "flex": null,
            "flex_flow": null,
            "grid_area": null,
            "grid_auto_columns": null,
            "grid_auto_flow": null,
            "grid_auto_rows": null,
            "grid_column": null,
            "grid_gap": null,
            "grid_row": null,
            "grid_template_areas": null,
            "grid_template_columns": null,
            "grid_template_rows": null,
            "height": null,
            "justify_content": null,
            "justify_items": null,
            "left": null,
            "margin": null,
            "max_height": null,
            "max_width": null,
            "min_height": null,
            "min_width": null,
            "object_fit": null,
            "object_position": null,
            "order": null,
            "overflow": null,
            "overflow_x": null,
            "overflow_y": null,
            "padding": null,
            "right": null,
            "top": null,
            "visibility": null,
            "width": null
          }
        },
        "ba190627829d43cb83f0c1118bc5b941": {
          "model_module": "@jupyter-widgets/controls",
          "model_name": "DescriptionStyleModel",
          "model_module_version": "1.5.0",
          "state": {
            "_model_module": "@jupyter-widgets/controls",
            "_model_module_version": "1.5.0",
            "_model_name": "DescriptionStyleModel",
            "_view_count": null,
            "_view_module": "@jupyter-widgets/base",
            "_view_module_version": "1.2.0",
            "_view_name": "StyleView",
            "description_width": ""
          }
        },
        "149a5b4db1d543e1be8210d6556555ce": {
          "model_module": "@jupyter-widgets/controls",
          "model_name": "HBoxModel",
          "model_module_version": "1.5.0",
          "state": {
            "_dom_classes": [],
            "_model_module": "@jupyter-widgets/controls",
            "_model_module_version": "1.5.0",
            "_model_name": "HBoxModel",
            "_view_count": null,
            "_view_module": "@jupyter-widgets/controls",
            "_view_module_version": "1.5.0",
            "_view_name": "HBoxView",
            "box_style": "",
            "children": [
              "IPY_MODEL_6b996b3f072543da8ab1775024e6c2f5",
              "IPY_MODEL_447eaa2d17c349f4922a1e56e4bdb27c",
              "IPY_MODEL_03fee93d83a54d84a86557ff16e74f48"
            ],
            "layout": "IPY_MODEL_5a28d40f179240009512048b8f6746d9"
          }
        },
        "6b996b3f072543da8ab1775024e6c2f5": {
          "model_module": "@jupyter-widgets/controls",
          "model_name": "HTMLModel",
          "model_module_version": "1.5.0",
          "state": {
            "_dom_classes": [],
            "_model_module": "@jupyter-widgets/controls",
            "_model_module_version": "1.5.0",
            "_model_name": "HTMLModel",
            "_view_count": null,
            "_view_module": "@jupyter-widgets/controls",
            "_view_module_version": "1.5.0",
            "_view_name": "HTMLView",
            "description": "",
            "description_tooltip": null,
            "layout": "IPY_MODEL_3387fef64514477c9c524cce4bac8c43",
            "placeholder": "​",
            "style": "IPY_MODEL_21bd551a26af412db305ef908177b1a5",
            "value": "Downloading tf_model.h5: 100%"
          }
        },
        "447eaa2d17c349f4922a1e56e4bdb27c": {
          "model_module": "@jupyter-widgets/controls",
          "model_name": "FloatProgressModel",
          "model_module_version": "1.5.0",
          "state": {
            "_dom_classes": [],
            "_model_module": "@jupyter-widgets/controls",
            "_model_module_version": "1.5.0",
            "_model_name": "FloatProgressModel",
            "_view_count": null,
            "_view_module": "@jupyter-widgets/controls",
            "_view_module_version": "1.5.0",
            "_view_name": "ProgressView",
            "bar_style": "success",
            "description": "",
            "description_tooltip": null,
            "layout": "IPY_MODEL_c5bf053107254d0d8df3048890e87f56",
            "max": 242303832,
            "min": 0,
            "orientation": "horizontal",
            "style": "IPY_MODEL_f5a0e15d3a04494fa9af6d1412956291",
            "value": 242303832
          }
        },
        "03fee93d83a54d84a86557ff16e74f48": {
          "model_module": "@jupyter-widgets/controls",
          "model_name": "HTMLModel",
          "model_module_version": "1.5.0",
          "state": {
            "_dom_classes": [],
            "_model_module": "@jupyter-widgets/controls",
            "_model_module_version": "1.5.0",
            "_model_name": "HTMLModel",
            "_view_count": null,
            "_view_module": "@jupyter-widgets/controls",
            "_view_module_version": "1.5.0",
            "_view_name": "HTMLView",
            "description": "",
            "description_tooltip": null,
            "layout": "IPY_MODEL_40c077dc895e401daa600d3022fb95ab",
            "placeholder": "​",
            "style": "IPY_MODEL_651c3832ddda4444a1064437bc4c1b26",
            "value": " 231M/231M [00:04&lt;00:00, 57.3MB/s]"
          }
        },
        "5a28d40f179240009512048b8f6746d9": {
          "model_module": "@jupyter-widgets/base",
          "model_name": "LayoutModel",
          "model_module_version": "1.2.0",
          "state": {
            "_model_module": "@jupyter-widgets/base",
            "_model_module_version": "1.2.0",
            "_model_name": "LayoutModel",
            "_view_count": null,
            "_view_module": "@jupyter-widgets/base",
            "_view_module_version": "1.2.0",
            "_view_name": "LayoutView",
            "align_content": null,
            "align_items": null,
            "align_self": null,
            "border": null,
            "bottom": null,
            "display": null,
            "flex": null,
            "flex_flow": null,
            "grid_area": null,
            "grid_auto_columns": null,
            "grid_auto_flow": null,
            "grid_auto_rows": null,
            "grid_column": null,
            "grid_gap": null,
            "grid_row": null,
            "grid_template_areas": null,
            "grid_template_columns": null,
            "grid_template_rows": null,
            "height": null,
            "justify_content": null,
            "justify_items": null,
            "left": null,
            "margin": null,
            "max_height": null,
            "max_width": null,
            "min_height": null,
            "min_width": null,
            "object_fit": null,
            "object_position": null,
            "order": null,
            "overflow": null,
            "overflow_x": null,
            "overflow_y": null,
            "padding": null,
            "right": null,
            "top": null,
            "visibility": null,
            "width": null
          }
        },
        "3387fef64514477c9c524cce4bac8c43": {
          "model_module": "@jupyter-widgets/base",
          "model_name": "LayoutModel",
          "model_module_version": "1.2.0",
          "state": {
            "_model_module": "@jupyter-widgets/base",
            "_model_module_version": "1.2.0",
            "_model_name": "LayoutModel",
            "_view_count": null,
            "_view_module": "@jupyter-widgets/base",
            "_view_module_version": "1.2.0",
            "_view_name": "LayoutView",
            "align_content": null,
            "align_items": null,
            "align_self": null,
            "border": null,
            "bottom": null,
            "display": null,
            "flex": null,
            "flex_flow": null,
            "grid_area": null,
            "grid_auto_columns": null,
            "grid_auto_flow": null,
            "grid_auto_rows": null,
            "grid_column": null,
            "grid_gap": null,
            "grid_row": null,
            "grid_template_areas": null,
            "grid_template_columns": null,
            "grid_template_rows": null,
            "height": null,
            "justify_content": null,
            "justify_items": null,
            "left": null,
            "margin": null,
            "max_height": null,
            "max_width": null,
            "min_height": null,
            "min_width": null,
            "object_fit": null,
            "object_position": null,
            "order": null,
            "overflow": null,
            "overflow_x": null,
            "overflow_y": null,
            "padding": null,
            "right": null,
            "top": null,
            "visibility": null,
            "width": null
          }
        },
        "21bd551a26af412db305ef908177b1a5": {
          "model_module": "@jupyter-widgets/controls",
          "model_name": "DescriptionStyleModel",
          "model_module_version": "1.5.0",
          "state": {
            "_model_module": "@jupyter-widgets/controls",
            "_model_module_version": "1.5.0",
            "_model_name": "DescriptionStyleModel",
            "_view_count": null,
            "_view_module": "@jupyter-widgets/base",
            "_view_module_version": "1.2.0",
            "_view_name": "StyleView",
            "description_width": ""
          }
        },
        "c5bf053107254d0d8df3048890e87f56": {
          "model_module": "@jupyter-widgets/base",
          "model_name": "LayoutModel",
          "model_module_version": "1.2.0",
          "state": {
            "_model_module": "@jupyter-widgets/base",
            "_model_module_version": "1.2.0",
            "_model_name": "LayoutModel",
            "_view_count": null,
            "_view_module": "@jupyter-widgets/base",
            "_view_module_version": "1.2.0",
            "_view_name": "LayoutView",
            "align_content": null,
            "align_items": null,
            "align_self": null,
            "border": null,
            "bottom": null,
            "display": null,
            "flex": null,
            "flex_flow": null,
            "grid_area": null,
            "grid_auto_columns": null,
            "grid_auto_flow": null,
            "grid_auto_rows": null,
            "grid_column": null,
            "grid_gap": null,
            "grid_row": null,
            "grid_template_areas": null,
            "grid_template_columns": null,
            "grid_template_rows": null,
            "height": null,
            "justify_content": null,
            "justify_items": null,
            "left": null,
            "margin": null,
            "max_height": null,
            "max_width": null,
            "min_height": null,
            "min_width": null,
            "object_fit": null,
            "object_position": null,
            "order": null,
            "overflow": null,
            "overflow_x": null,
            "overflow_y": null,
            "padding": null,
            "right": null,
            "top": null,
            "visibility": null,
            "width": null
          }
        },
        "f5a0e15d3a04494fa9af6d1412956291": {
          "model_module": "@jupyter-widgets/controls",
          "model_name": "ProgressStyleModel",
          "model_module_version": "1.5.0",
          "state": {
            "_model_module": "@jupyter-widgets/controls",
            "_model_module_version": "1.5.0",
            "_model_name": "ProgressStyleModel",
            "_view_count": null,
            "_view_module": "@jupyter-widgets/base",
            "_view_module_version": "1.2.0",
            "_view_name": "StyleView",
            "bar_color": null,
            "description_width": ""
          }
        },
        "40c077dc895e401daa600d3022fb95ab": {
          "model_module": "@jupyter-widgets/base",
          "model_name": "LayoutModel",
          "model_module_version": "1.2.0",
          "state": {
            "_model_module": "@jupyter-widgets/base",
            "_model_module_version": "1.2.0",
            "_model_name": "LayoutModel",
            "_view_count": null,
            "_view_module": "@jupyter-widgets/base",
            "_view_module_version": "1.2.0",
            "_view_name": "LayoutView",
            "align_content": null,
            "align_items": null,
            "align_self": null,
            "border": null,
            "bottom": null,
            "display": null,
            "flex": null,
            "flex_flow": null,
            "grid_area": null,
            "grid_auto_columns": null,
            "grid_auto_flow": null,
            "grid_auto_rows": null,
            "grid_column": null,
            "grid_gap": null,
            "grid_row": null,
            "grid_template_areas": null,
            "grid_template_columns": null,
            "grid_template_rows": null,
            "height": null,
            "justify_content": null,
            "justify_items": null,
            "left": null,
            "margin": null,
            "max_height": null,
            "max_width": null,
            "min_height": null,
            "min_width": null,
            "object_fit": null,
            "object_position": null,
            "order": null,
            "overflow": null,
            "overflow_x": null,
            "overflow_y": null,
            "padding": null,
            "right": null,
            "top": null,
            "visibility": null,
            "width": null
          }
        },
        "651c3832ddda4444a1064437bc4c1b26": {
          "model_module": "@jupyter-widgets/controls",
          "model_name": "DescriptionStyleModel",
          "model_module_version": "1.5.0",
          "state": {
            "_model_module": "@jupyter-widgets/controls",
            "_model_module_version": "1.5.0",
            "_model_name": "DescriptionStyleModel",
            "_view_count": null,
            "_view_module": "@jupyter-widgets/base",
            "_view_module_version": "1.2.0",
            "_view_name": "StyleView",
            "description_width": ""
          }
        }
      }
    }
  },
  "cells": [
    {
      "cell_type": "markdown",
      "metadata": {
        "id": "view-in-github",
        "colab_type": "text"
      },
      "source": [
        "<a href=\"https://colab.research.google.com/github/cgray1117/NLPTransformersProject/blob/main/Copy_of_T5new.ipynb\" target=\"_parent\"><img src=\"https://colab.research.google.com/assets/colab-badge.svg\" alt=\"Open In Colab\"/></a>"
      ]
    },
    {
      "cell_type": "code",
      "source": [
        "## pip Install\n",
        "!pip install SentencePiece\n",
        "!pip install transformers"
      ],
      "metadata": {
        "colab": {
          "base_uri": "https://localhost:8080/"
        },
        "id": "fNGYs5heyILD",
        "outputId": "b831c626-051d-41f4-ddbb-6a36f2d392f5"
      },
      "execution_count": 1,
      "outputs": [
        {
          "output_type": "stream",
          "name": "stdout",
          "text": [
            "Looking in indexes: https://pypi.org/simple, https://us-python.pkg.dev/colab-wheels/public/simple/\n",
            "Collecting SentencePiece\n",
            "  Downloading sentencepiece-0.1.97-cp37-cp37m-manylinux_2_17_x86_64.manylinux2014_x86_64.whl (1.3 MB)\n",
            "\u001b[K     |████████████████████████████████| 1.3 MB 25.1 MB/s \n",
            "\u001b[?25hInstalling collected packages: SentencePiece\n",
            "Successfully installed SentencePiece-0.1.97\n",
            "Looking in indexes: https://pypi.org/simple, https://us-python.pkg.dev/colab-wheels/public/simple/\n",
            "Collecting transformers\n",
            "  Downloading transformers-4.21.2-py3-none-any.whl (4.7 MB)\n",
            "\u001b[K     |████████████████████████████████| 4.7 MB 37.4 MB/s \n",
            "\u001b[?25hCollecting tokenizers!=0.11.3,<0.13,>=0.11.1\n",
            "  Downloading tokenizers-0.12.1-cp37-cp37m-manylinux_2_12_x86_64.manylinux2010_x86_64.whl (6.6 MB)\n",
            "\u001b[K     |████████████████████████████████| 6.6 MB 51.3 MB/s \n",
            "\u001b[?25hRequirement already satisfied: requests in /usr/local/lib/python3.7/dist-packages (from transformers) (2.23.0)\n",
            "Requirement already satisfied: tqdm>=4.27 in /usr/local/lib/python3.7/dist-packages (from transformers) (4.64.0)\n",
            "Requirement already satisfied: importlib-metadata in /usr/local/lib/python3.7/dist-packages (from transformers) (4.12.0)\n",
            "Requirement already satisfied: numpy>=1.17 in /usr/local/lib/python3.7/dist-packages (from transformers) (1.21.6)\n",
            "Requirement already satisfied: filelock in /usr/local/lib/python3.7/dist-packages (from transformers) (3.8.0)\n",
            "Requirement already satisfied: packaging>=20.0 in /usr/local/lib/python3.7/dist-packages (from transformers) (21.3)\n",
            "Requirement already satisfied: pyyaml>=5.1 in /usr/local/lib/python3.7/dist-packages (from transformers) (6.0)\n",
            "Requirement already satisfied: regex!=2019.12.17 in /usr/local/lib/python3.7/dist-packages (from transformers) (2022.6.2)\n",
            "Collecting huggingface-hub<1.0,>=0.1.0\n",
            "  Downloading huggingface_hub-0.9.1-py3-none-any.whl (120 kB)\n",
            "\u001b[K     |████████████████████████████████| 120 kB 34.5 MB/s \n",
            "\u001b[?25hRequirement already satisfied: typing-extensions>=3.7.4.3 in /usr/local/lib/python3.7/dist-packages (from huggingface-hub<1.0,>=0.1.0->transformers) (4.1.1)\n",
            "Requirement already satisfied: pyparsing!=3.0.5,>=2.0.2 in /usr/local/lib/python3.7/dist-packages (from packaging>=20.0->transformers) (3.0.9)\n",
            "Requirement already satisfied: zipp>=0.5 in /usr/local/lib/python3.7/dist-packages (from importlib-metadata->transformers) (3.8.1)\n",
            "Requirement already satisfied: chardet<4,>=3.0.2 in /usr/local/lib/python3.7/dist-packages (from requests->transformers) (3.0.4)\n",
            "Requirement already satisfied: urllib3!=1.25.0,!=1.25.1,<1.26,>=1.21.1 in /usr/local/lib/python3.7/dist-packages (from requests->transformers) (1.24.3)\n",
            "Requirement already satisfied: idna<3,>=2.5 in /usr/local/lib/python3.7/dist-packages (from requests->transformers) (2.10)\n",
            "Requirement already satisfied: certifi>=2017.4.17 in /usr/local/lib/python3.7/dist-packages (from requests->transformers) (2022.6.15)\n",
            "Installing collected packages: tokenizers, huggingface-hub, transformers\n",
            "Successfully installed huggingface-hub-0.9.1 tokenizers-0.12.1 transformers-4.21.2\n"
          ]
        }
      ]
    },
    {
      "cell_type": "code",
      "source": [
        "## Import libraries\n",
        "import sentencepiece\n",
        "import numpy as np\n",
        "import regex as re\n",
        "import math\n",
        "import os\n",
        "import pandas as pd\n",
        "import matplotlib.pyplot as plt\n",
        "import seaborn as sns\n",
        "import statistics\n",
        "\n",
        "import nltk\n",
        "from nltk.corpus import stopwords\n",
        "from nltk.stem import WordNetLemmatizer\n",
        "from nltk.tokenize import TweetTokenizer\n",
        "\n",
        "from sklearn.metrics import accuracy_score\n",
        "from sklearn.metrics import precision_score\n",
        "from sklearn.metrics import recall_score\n",
        "from sklearn.metrics import f1_score\n",
        "from sklearn.model_selection import StratifiedKFold\n",
        "from sklearn.metrics import accuracy_score\n",
        "from sklearn.model_selection import train_test_split\n",
        "from sklearn.model_selection import RepeatedKFold\n",
        "from sklearn.model_selection import RandomizedSearchCV\n",
        "\n",
        "import tensorflow as tf\n",
        "import tensorflow.keras.backend as K\n",
        "from tensorflow import keras\n",
        "\n",
        "import tokenizers\n",
        "from transformers import T5Tokenizer, TFT5Model\n",
        "from collections import Counter"
      ],
      "metadata": {
        "id": "IHbgzW4dO7Pz"
      },
      "execution_count": 2,
      "outputs": []
    },
    {
      "cell_type": "code",
      "source": [
        "MODEL_NAME = 't5-small'\n",
        "MAX_LEN = 256\n",
        "ARTIFACTS_PATH = '../artifacts/'\n",
        "EPOCHS = 5\n",
        "if not os.path.exists(ARTIFACTS_PATH):\n",
        "    os.makedirs(ARTIFACTS_PATH)"
      ],
      "metadata": {
        "id": "0mIvs6LEC8bT"
      },
      "execution_count": 3,
      "outputs": []
    },
    {
      "cell_type": "markdown",
      "source": [
        "## Data NLP"
      ],
      "metadata": {
        "id": "yD_SrsD9yR6x"
      }
    },
    {
      "cell_type": "code",
      "source": [
        "df = pd.read_csv('project_data.csv')\n",
        "\n",
        "# Identify null and remove\n",
        "df[\"Label\"].isnull().sum()\n",
        "df['Label'].replace('', np.nan, inplace=True)\n",
        "df.dropna(subset=['Label'], inplace=True)"
      ],
      "metadata": {
        "id": "Lp09sfeUSPO1"
      },
      "execution_count": 5,
      "outputs": []
    },
    {
      "cell_type": "code",
      "source": [
        "# Drop extra columns\n",
        "df = df.drop('Username', axis=1)\n",
        "df = df.drop('UserLocation', axis=1)\n",
        "df.head()"
      ],
      "metadata": {
        "colab": {
          "base_uri": "https://localhost:8080/",
          "height": 201
        },
        "id": "b-iJ_lZEZuor",
        "outputId": "61394442-bd07-47f7-a0a1-44d05ad4f02d"
      },
      "execution_count": 6,
      "outputs": [
        {
          "output_type": "execute_result",
          "data": {
            "text/plain": [
              "                    Datetime  \\\n",
              "0  2022-08-07 21:15:43+00:00   \n",
              "1  2022-07-29 10:25:44+00:00   \n",
              "2  2022-07-29 10:25:44+00:00   \n",
              "3  2022-07-29 10:10:43+00:00   \n",
              "4  2022-07-29 09:50:43+00:00   \n",
              "\n",
              "                                                Text  Label  \n",
              "0  Accident in #Manhattan on The FDR Drive SB at ...    1.0  \n",
              "1  Closed due to Police Activity in #NewYork on W...    2.0  \n",
              "2  Closed due to Police Activity in #NewYork on A...    2.0  \n",
              "3  Closed due to Police Activity in #NewYork on A...    2.0  \n",
              "4  Closed due to Police Activity in #NewYork on A...    2.0  "
            ],
            "text/html": [
              "\n",
              "  <div id=\"df-b97e32f6-cff3-4ea4-b6d7-92587c6ee24d\">\n",
              "    <div class=\"colab-df-container\">\n",
              "      <div>\n",
              "<style scoped>\n",
              "    .dataframe tbody tr th:only-of-type {\n",
              "        vertical-align: middle;\n",
              "    }\n",
              "\n",
              "    .dataframe tbody tr th {\n",
              "        vertical-align: top;\n",
              "    }\n",
              "\n",
              "    .dataframe thead th {\n",
              "        text-align: right;\n",
              "    }\n",
              "</style>\n",
              "<table border=\"1\" class=\"dataframe\">\n",
              "  <thead>\n",
              "    <tr style=\"text-align: right;\">\n",
              "      <th></th>\n",
              "      <th>Datetime</th>\n",
              "      <th>Text</th>\n",
              "      <th>Label</th>\n",
              "    </tr>\n",
              "  </thead>\n",
              "  <tbody>\n",
              "    <tr>\n",
              "      <th>0</th>\n",
              "      <td>2022-08-07 21:15:43+00:00</td>\n",
              "      <td>Accident in #Manhattan on The FDR Drive SB at ...</td>\n",
              "      <td>1.0</td>\n",
              "    </tr>\n",
              "    <tr>\n",
              "      <th>1</th>\n",
              "      <td>2022-07-29 10:25:44+00:00</td>\n",
              "      <td>Closed due to Police Activity in #NewYork on W...</td>\n",
              "      <td>2.0</td>\n",
              "    </tr>\n",
              "    <tr>\n",
              "      <th>2</th>\n",
              "      <td>2022-07-29 10:25:44+00:00</td>\n",
              "      <td>Closed due to Police Activity in #NewYork on A...</td>\n",
              "      <td>2.0</td>\n",
              "    </tr>\n",
              "    <tr>\n",
              "      <th>3</th>\n",
              "      <td>2022-07-29 10:10:43+00:00</td>\n",
              "      <td>Closed due to Police Activity in #NewYork on A...</td>\n",
              "      <td>2.0</td>\n",
              "    </tr>\n",
              "    <tr>\n",
              "      <th>4</th>\n",
              "      <td>2022-07-29 09:50:43+00:00</td>\n",
              "      <td>Closed due to Police Activity in #NewYork on A...</td>\n",
              "      <td>2.0</td>\n",
              "    </tr>\n",
              "  </tbody>\n",
              "</table>\n",
              "</div>\n",
              "      <button class=\"colab-df-convert\" onclick=\"convertToInteractive('df-b97e32f6-cff3-4ea4-b6d7-92587c6ee24d')\"\n",
              "              title=\"Convert this dataframe to an interactive table.\"\n",
              "              style=\"display:none;\">\n",
              "        \n",
              "  <svg xmlns=\"http://www.w3.org/2000/svg\" height=\"24px\"viewBox=\"0 0 24 24\"\n",
              "       width=\"24px\">\n",
              "    <path d=\"M0 0h24v24H0V0z\" fill=\"none\"/>\n",
              "    <path d=\"M18.56 5.44l.94 2.06.94-2.06 2.06-.94-2.06-.94-.94-2.06-.94 2.06-2.06.94zm-11 1L8.5 8.5l.94-2.06 2.06-.94-2.06-.94L8.5 2.5l-.94 2.06-2.06.94zm10 10l.94 2.06.94-2.06 2.06-.94-2.06-.94-.94-2.06-.94 2.06-2.06.94z\"/><path d=\"M17.41 7.96l-1.37-1.37c-.4-.4-.92-.59-1.43-.59-.52 0-1.04.2-1.43.59L10.3 9.45l-7.72 7.72c-.78.78-.78 2.05 0 2.83L4 21.41c.39.39.9.59 1.41.59.51 0 1.02-.2 1.41-.59l7.78-7.78 2.81-2.81c.8-.78.8-2.07 0-2.86zM5.41 20L4 18.59l7.72-7.72 1.47 1.35L5.41 20z\"/>\n",
              "  </svg>\n",
              "      </button>\n",
              "      \n",
              "  <style>\n",
              "    .colab-df-container {\n",
              "      display:flex;\n",
              "      flex-wrap:wrap;\n",
              "      gap: 12px;\n",
              "    }\n",
              "\n",
              "    .colab-df-convert {\n",
              "      background-color: #E8F0FE;\n",
              "      border: none;\n",
              "      border-radius: 50%;\n",
              "      cursor: pointer;\n",
              "      display: none;\n",
              "      fill: #1967D2;\n",
              "      height: 32px;\n",
              "      padding: 0 0 0 0;\n",
              "      width: 32px;\n",
              "    }\n",
              "\n",
              "    .colab-df-convert:hover {\n",
              "      background-color: #E2EBFA;\n",
              "      box-shadow: 0px 1px 2px rgba(60, 64, 67, 0.3), 0px 1px 3px 1px rgba(60, 64, 67, 0.15);\n",
              "      fill: #174EA6;\n",
              "    }\n",
              "\n",
              "    [theme=dark] .colab-df-convert {\n",
              "      background-color: #3B4455;\n",
              "      fill: #D2E3FC;\n",
              "    }\n",
              "\n",
              "    [theme=dark] .colab-df-convert:hover {\n",
              "      background-color: #434B5C;\n",
              "      box-shadow: 0px 1px 3px 1px rgba(0, 0, 0, 0.15);\n",
              "      filter: drop-shadow(0px 1px 2px rgba(0, 0, 0, 0.3));\n",
              "      fill: #FFFFFF;\n",
              "    }\n",
              "  </style>\n",
              "\n",
              "      <script>\n",
              "        const buttonEl =\n",
              "          document.querySelector('#df-b97e32f6-cff3-4ea4-b6d7-92587c6ee24d button.colab-df-convert');\n",
              "        buttonEl.style.display =\n",
              "          google.colab.kernel.accessAllowed ? 'block' : 'none';\n",
              "\n",
              "        async function convertToInteractive(key) {\n",
              "          const element = document.querySelector('#df-b97e32f6-cff3-4ea4-b6d7-92587c6ee24d');\n",
              "          const dataTable =\n",
              "            await google.colab.kernel.invokeFunction('convertToInteractive',\n",
              "                                                     [key], {});\n",
              "          if (!dataTable) return;\n",
              "\n",
              "          const docLinkHtml = 'Like what you see? Visit the ' +\n",
              "            '<a target=\"_blank\" href=https://colab.research.google.com/notebooks/data_table.ipynb>data table notebook</a>'\n",
              "            + ' to learn more about interactive tables.';\n",
              "          element.innerHTML = '';\n",
              "          dataTable['output_type'] = 'display_data';\n",
              "          await google.colab.output.renderOutput(dataTable, element);\n",
              "          const docLink = document.createElement('div');\n",
              "          docLink.innerHTML = docLinkHtml;\n",
              "          element.appendChild(docLink);\n",
              "        }\n",
              "      </script>\n",
              "    </div>\n",
              "  </div>\n",
              "  "
            ]
          },
          "metadata": {},
          "execution_count": 6
        }
      ]
    },
    {
      "cell_type": "code",
      "source": [
        "tknzr = TweetTokenizer()\n",
        "\n",
        "# Tokenize each tweet\n",
        "df['tokenized'] = df['Text'].map(lambda t: tknzr.tokenize(t))\n",
        "\n",
        "# lowecase, strip and ensure we only include words\n",
        "df['tokenized'] = df['tokenized'].map(\n",
        "    lambda t: [word.lower().strip() for word in t if word.isalpha()])\n",
        "\n",
        "# Importing stopwords\n",
        "nltk.download(\"stopwords\")\n",
        "\n",
        "stopwords_en = stopwords.words('english')\n",
        "\n",
        "# Instantiate the WordNetLemmatizer\n",
        "wordnet_lemmatizer = WordNetLemmatizer()\n",
        "\n",
        "# lemmarize and remove stopwords\n",
        "nltk.download('omw-1.4')\n",
        "nltk.download('wordnet')\n",
        "\n",
        "df['tokenized'] = df['tokenized'].map(\n",
        "    lambda t: [wordnet_lemmatizer.lemmatize(word) for word in t \n",
        "               if word not in stopwords_en])"
      ],
      "metadata": {
        "colab": {
          "base_uri": "https://localhost:8080/"
        },
        "id": "y5f82A1Sy8E3",
        "outputId": "b5c74097-9752-49ae-c62f-21383fa41719"
      },
      "execution_count": 7,
      "outputs": [
        {
          "output_type": "stream",
          "name": "stderr",
          "text": [
            "[nltk_data] Downloading package stopwords to /root/nltk_data...\n",
            "[nltk_data]   Unzipping corpora/stopwords.zip.\n",
            "[nltk_data] Downloading package omw-1.4 to /root/nltk_data...\n",
            "[nltk_data] Downloading package wordnet to /root/nltk_data...\n"
          ]
        }
      ]
    },
    {
      "cell_type": "code",
      "source": [
        "df['tokenized'][:10]"
      ],
      "metadata": {
        "colab": {
          "base_uri": "https://localhost:8080/"
        },
        "id": "g37AA6way91f",
        "outputId": "0ae47cf2-4ab5-4dc8-a7c9-33aca82f0c9f"
      },
      "execution_count": 8,
      "outputs": [
        {
          "output_type": "execute_result",
          "data": {
            "text/plain": [
              "0    [accident, fdr, drive, sb, st, stopped, traffi...\n",
              "1    [closed, due, police, activity, west, street, ...\n",
              "2    [closed, due, police, activity, avenue, americ...\n",
              "3    [closed, due, police, activity, avenue, americ...\n",
              "4    [closed, due, police, activity, avenue, americ...\n",
              "5    [closed, due, police, activity, avenue, americ...\n",
              "6    [closed, due, police, activity, west, street, ...\n",
              "7    [overturned, vehicle, two, lane, blocked, onth...\n",
              "8    [left, lane, blocked, onthefdr, fdr, drive, sb...\n",
              "9    [overturned, vehicle, two, lane, blocked, onth...\n",
              "Name: tokenized, dtype: object"
            ]
          },
          "metadata": {},
          "execution_count": 8
        }
      ]
    },
    {
      "cell_type": "code",
      "source": [
        "token_tweets = []\n",
        "for lst in df['tokenized']:\n",
        "  txt = \" \".join(lst)\n",
        "  token_tweets.append(txt)\n",
        "\n",
        "X_data = np.array(token_tweets)\n",
        "y_data = df[[\"Label\"]].to_numpy().reshape(-1)"
      ],
      "metadata": {
        "id": "KgvLnMQ_SUa3"
      },
      "execution_count": 9,
      "outputs": []
    },
    {
      "cell_type": "markdown",
      "source": [
        "## EDA"
      ],
      "metadata": {
        "id": "WjlRxew6zCoD"
      }
    },
    {
      "cell_type": "code",
      "source": [
        "categories = df[['Label']].values.reshape(-1)\n",
        "\n",
        "counter_categories = Counter(categories)\n",
        "counter_categories\n",
        "\n",
        "category_names = counter_categories.keys()\n",
        "category_values = counter_categories.values()\n",
        "y_pos = np.arange(len(category_names))\n",
        "\n",
        "# Create distribution of labels figure\n",
        "plt.figure(1, figsize=(10, 7))\n",
        "plt.bar(y_pos, category_values, align='center', alpha=0.5)\n",
        "plt.xticks(y_pos, category_names)\n",
        "plt.ylabel('Number of Texts')\n",
        "plt.xlabel('Labels')\n",
        "plt.title('Distribution of Texts per Category')\n",
        "plt.gca().yaxis.grid(True)\n",
        "plt.show()\n",
        "print(counter_categories)"
      ],
      "metadata": {
        "colab": {
          "base_uri": "https://localhost:8080/",
          "height": 472
        },
        "id": "_T7jP3FyTzuZ",
        "outputId": "6c2c3130-60e2-4df2-d3d7-f55514cb95c5"
      },
      "execution_count": 10,
      "outputs": [
        {
          "output_type": "display_data",
          "data": {
            "text/plain": [
              "<Figure size 720x504 with 1 Axes>"
            ],
            "image/png": "[encoded data removed]"
          },
          "metadata": {
            "needs_background": "light"
          }
        },
        {
          "output_type": "stream",
          "name": "stdout",
          "text": [
            "Counter({1.0: 2030, 2.0: 1881, 0.0: 784})\n"
          ]
        }
      ]
    },
    {
      "cell_type": "code",
      "source": [
        "n_texts = len(X_data)\n",
        "print('Texts in dataset: %d' % n_texts)\n",
        "n_categories = len(df['Label'].unique())\n",
        "print('Number of categories: %d' % n_categories)"
      ],
      "metadata": {
        "colab": {
          "base_uri": "https://localhost:8080/"
        },
        "id": "v_mVIghx_Fli",
        "outputId": "3762065f-477f-4f4a-abaf-139b45b3e475"
      },
      "execution_count": 11,
      "outputs": [
        {
          "output_type": "stream",
          "name": "stdout",
          "text": [
            "Texts in dataset: 4695\n",
            "Number of categories: 3\n"
          ]
        }
      ]
    },
    {
      "cell_type": "markdown",
      "source": [
        "## Decode, and Create Roberta"
      ],
      "metadata": {
        "id": "5aTB4JKG_baT"
      }
    },
    {
      "cell_type": "code",
      "source": [
        "def t5_encode(texts, tokenizer):\n",
        "    ct = len(texts)\n",
        "    input_ids = np.ones((ct, MAX_LEN), dtype='int32')\n",
        "    attention_mask = np.zeros((ct, MAX_LEN), dtype='int32')\n",
        "    token_type_ids = np.zeros((ct, MAX_LEN), dtype='int32')\n",
        "\n",
        "    for k, text in enumerate(texts):\n",
        "        tok_text = tokenizer.tokenize(text)\n",
        "        enc_text = tokenizer.convert_tokens_to_ids(tok_text[:(MAX_LEN-2)])\n",
        "        input_length = len(enc_text) + 2\n",
        "        input_length = input_length if input_length < MAX_LEN else MAX_LEN\n",
        "        input_ids[k,:input_length] = np.asarray([0] + enc_text + [2], dtype='int32')\n",
        "        attention_mask[k,:input_length] = 1\n",
        "\n",
        "    return {'input_word_ids': input_ids,'input_mask': attention_mask,\n",
        "            'input_type_ids': token_type_ids}"
      ],
      "metadata": {
        "id": "FMu_4n3n_eBo"
      },
      "execution_count": 12,
      "outputs": []
    },
    {
      "cell_type": "code",
      "source": [
        "# Train test validation split\n",
        "X_train, X_rem, y_train, y_rem = train_test_split(X_data, y_data, train_size=0.7, random_state=444)\n",
        "\n",
        "X_valid, X_test, y_valid, y_test = train_test_split(X_rem,y_rem, test_size=0.5)"
      ],
      "metadata": {
        "id": "KLU9PYZTACvu"
      },
      "execution_count": 13,
      "outputs": []
    },
    {
      "cell_type": "code",
      "source": [
        "tokenizer = T5Tokenizer.from_pretrained(MODEL_NAME)\n",
        "\n",
        "X_train = t5_encode(X_train, tokenizer)\n",
        "X_test = t5_encode(X_test, tokenizer)\n",
        "X_valid = t5_encode(X_valid, tokenizer)\n",
        "\n",
        "y_valid = np.asarray(y_valid, dtype='int32').reshape(-1)\n",
        "y_train = np.asarray(y_train, dtype='int32').reshape(-1)\n",
        "y_test = np.asarray(y_test, dtype='int32').reshape(-1) "
      ],
      "metadata": {
        "id": "P3c4wuKRvCrc",
        "colab": {
          "base_uri": "https://localhost:8080/",
          "height": 200,
          "referenced_widgets": [
            "bb62dce334a0407c8692e0b17d06cb53",
            "054352e52aa54d0198ec8cb065626667",
            "774af4339eec41f99544ddf6e2aa4f9d",
            "14169bd2556148648f7d0599bf409f61",
            "a34ec8f6550045248f8ea24e0255424a",
            "c66329188fb843c884e138973da9b851",
            "731959bb8a844754b372e389da03af79",
            "19c0332399624573bbc4f3c7e860f165",
            "1c1d600346d84f9c9e69f83e3ce43057",
            "e27be40068be4645b658d7b8d21f30aa",
            "cd57e7a79b59409c88a5cf47f79595c5",
            "44f24ea15b2f4a1880c4d58b415af4fc",
            "787a3f2202ff495a8b0621740e32d398",
            "7697442c70464794a29137d9a7135bd0",
            "1bb580c56e2d49e98e501438a307fce9",
            "f784c2d79d9c4c1593fc8165397b360d",
            "98c2b1147aea497488b5a25744cc629c",
            "f6349e6a10e34d35828027610f07efad",
            "66ea4acb0dea4630aef25e3afd57c677",
            "9c2ea1cb337649ac9b93cc77a3900c98",
            "ab41ded6a2ca4cd0ac2f30ca8b05463d",
            "ba190627829d43cb83f0c1118bc5b941"
          ]
        },
        "outputId": "4d5dc48b-a50b-4cf3-f721-3a4bc17d9a96"
      },
      "execution_count": 14,
      "outputs": [
        {
          "output_type": "display_data",
          "data": {
            "text/plain": [
              "Downloading spiece.model:   0%|          | 0.00/773k [00:00<?, ?B/s]"
            ],
            "application/vnd.jupyter.widget-view+json": {
              "version_major": 2,
              "version_minor": 0,
              "model_id": "bb62dce334a0407c8692e0b17d06cb53"
            }
          },
          "metadata": {}
        },
        {
          "output_type": "display_data",
          "data": {
            "text/plain": [
              "Downloading config.json:   0%|          | 0.00/1.17k [00:00<?, ?B/s]"
            ],
            "application/vnd.jupyter.widget-view+json": {
              "version_major": 2,
              "version_minor": 0,
              "model_id": "44f24ea15b2f4a1880c4d58b415af4fc"
            }
          },
          "metadata": {}
        },
        {
          "output_type": "stream",
          "name": "stderr",
          "text": [
            "/usr/local/lib/python3.7/dist-packages/transformers/models/t5/tokenization_t5.py:174: FutureWarning: This tokenizer was incorrectly instantiated with a model max length of 512 which will be corrected in Transformers v5.\n",
            "For now, this behavior is kept to avoid breaking backwards compatibility when padding/encoding with `truncation is True`.\n",
            "- Be aware that you SHOULD NOT rely on t5-small automatically truncating your input to 512 when padding/encoding.\n",
            "- If you want to encode/pad to sequences longer than 512 you can either instantiate this tokenizer with `model_max_length` or pass `max_length` when encoding/padding.\n",
            "- To avoid this warning, please instantiate this tokenizer with `model_max_length` set to your preferred value.\n",
            "  FutureWarning,\n"
          ]
        }
      ]
    },
    {
      "cell_type": "markdown",
      "source": [
        "## Build Model"
      ],
      "metadata": {
        "id": "p2u6vmoUzjh2"
      }
    },
    {
      "cell_type": "code",
      "source": [
        "def build_model(n_categories):\n",
        "      input_word_ids = tf.keras.Input(shape=(MAX_LEN,), dtype=tf.int32, name='input_word_ids')\n",
        "      input_mask = tf.keras.Input(shape=(MAX_LEN,), dtype=tf.int32, name='input_mask')\n",
        "      input_type_ids = tf.keras.Input(shape=(MAX_LEN,), dtype=tf.int32, name='input_type_ids')\n",
        "\n",
        "      # Import RoBERTa model from HuggingFace\n",
        "      T5_model = TFT5Model.from_pretrained(MODEL_NAME)\n",
        "      x = T5_model(input_word_ids, attention_mask=input_mask, decoder_input_ids=input_type_ids)\n",
        "\n",
        "      # Huggingface transformers have multiple outputs, embeddings are the first one,\n",
        "      # so let's slice out the first position\n",
        "      x = x[0]\n",
        "\n",
        "      x = tf.keras.layers.Dropout(0.1)(x)\n",
        "      x = tf.keras.layers.Flatten()(x)\n",
        "      x = tf.keras.layers.Dense(256, activation='relu')(x)\n",
        "      x = tf.keras.layers.Dense(n_categories, activation='softmax')(x)\n",
        "\n",
        "      model = tf.keras.Model(inputs=[input_word_ids, input_mask,input_type_ids], outputs=x)\n",
        "      #input_ids = input_word_ids, attention_mask = input_mask, decoder_input_ids = input_type_ids\n",
        "      model.compile(\n",
        "          optimizer=tf.keras.optimizers.Adam(lr=1e-5),\n",
        "          loss='sparse_categorical_crossentropy',\n",
        "          metrics=['accuracy'])\n",
        "\n",
        "      return model\n",
        "      "
      ],
      "metadata": {
        "id": "VC4kZadcALI_"
      },
      "execution_count": 15,
      "outputs": []
    },
    {
      "cell_type": "code",
      "source": [
        "model = build_model(n_categories)\n",
        "model.summary()"
      ],
      "metadata": {
        "id": "ux7taYQyAQoO",
        "colab": {
          "base_uri": "https://localhost:8080/",
          "height": 1000,
          "referenced_widgets": [
            "149a5b4db1d543e1be8210d6556555ce",
            "6b996b3f072543da8ab1775024e6c2f5",
            "447eaa2d17c349f4922a1e56e4bdb27c",
            "03fee93d83a54d84a86557ff16e74f48",
            "5a28d40f179240009512048b8f6746d9",
            "3387fef64514477c9c524cce4bac8c43",
            "21bd551a26af412db305ef908177b1a5",
            "c5bf053107254d0d8df3048890e87f56",
            "f5a0e15d3a04494fa9af6d1412956291",
            "40c077dc895e401daa600d3022fb95ab",
            "651c3832ddda4444a1064437bc4c1b26"
          ]
        },
        "outputId": "78404507-206d-47ad-adcb-02e69e9a7cfe"
      },
      "execution_count": 16,
      "outputs": [
        {
          "output_type": "display_data",
          "data": {
            "text/plain": [
              "Downloading tf_model.h5:   0%|          | 0.00/231M [00:00<?, ?B/s]"
            ],
            "application/vnd.jupyter.widget-view+json": {
              "version_major": 2,
              "version_minor": 0,
              "model_id": "149a5b4db1d543e1be8210d6556555ce"
            }
          },
          "metadata": {}
        },
        {
          "output_type": "stream",
          "name": "stderr",
          "text": [
            "All model checkpoint layers were used when initializing TFT5Model.\n",
            "\n",
            "All the layers of TFT5Model were initialized from the model checkpoint at t5-small.\n",
            "If your task is similar to the task the model of the checkpoint was trained on, you can already use TFT5Model for predictions without further training.\n"
          ]
        },
        {
          "output_type": "stream",
          "name": "stdout",
          "text": [
            "Model: \"model\"\n",
            "__________________________________________________________________________________________________\n",
            " Layer (type)                   Output Shape         Param #     Connected to                     \n",
            "==================================================================================================\n",
            " input_word_ids (InputLayer)    [(None, 256)]        0           []                               \n",
            "                                                                                                  \n",
            " input_mask (InputLayer)        [(None, 256)]        0           []                               \n",
            "                                                                                                  \n",
            " input_type_ids (InputLayer)    [(None, 256)]        0           []                               \n",
            "                                                                                                  \n",
            " tft5_model (TFT5Model)         TFSeq2SeqModelOutpu  60506624    ['input_word_ids[0][0]',         \n",
            "                                t(last_hidden_state               'input_mask[0][0]',             \n",
            "                                =(None, 256, 512),                'input_type_ids[0][0]']         \n",
            "                                 past_key_values=((                                               \n",
            "                                (None, 8, None, 64)                                               \n",
            "                                , (None, 8, None, 6                                               \n",
            "                                4),                                                               \n",
            "                                 (None, 8, None, 64                                               \n",
            "                                ),                                                                \n",
            "                                 (None, 8, None, 64                                               \n",
            "                                )),                                                               \n",
            "                                 ((None, 8, None, 6                                               \n",
            "                                4),                                                               \n",
            "                                 (None, 8, None, 64                                               \n",
            "                                ),                                                                \n",
            "                                 (None, 8, None, 64                                               \n",
            "                                ),                                                                \n",
            "                                 (None, 8, None, 64                                               \n",
            "                                )),                                                               \n",
            "                                 ((None, 8, None, 6                                               \n",
            "                                4),                                                               \n",
            "                                 (None, 8, None, 64                                               \n",
            "                                ),                                                                \n",
            "                                 (None, 8, None, 64                                               \n",
            "                                ),                                                                \n",
            "                                 (None, 8, None, 64                                               \n",
            "                                )),                                                               \n",
            "                                 ((None, 8, None, 6                                               \n",
            "                                4),                                                               \n",
            "                                 (None, 8, None, 64                                               \n",
            "                                ),                                                                \n",
            "                                 (None, 8, None, 64                                               \n",
            "                                ),                                                                \n",
            "                                 (None, 8, None, 64                                               \n",
            "                                )),                                                               \n",
            "                                 ((None, 8, None, 6                                               \n",
            "                                4),                                                               \n",
            "                                 (None, 8, None, 64                                               \n",
            "                                ),                                                                \n",
            "                                 (None, 8, None, 64                                               \n",
            "                                ),                                                                \n",
            "                                 (None, 8, None, 64                                               \n",
            "                                )),                                                               \n",
            "                                 ((None, 8, None, 6                                               \n",
            "                                4),                                                               \n",
            "                                 (None, 8, None, 64                                               \n",
            "                                ),                                                                \n",
            "                                 (None, 8, None, 64                                               \n",
            "                                ),                                                                \n",
            "                                 (None, 8, None, 64                                               \n",
            "                                ))),                                                              \n",
            "                                 decoder_hidden_sta                                               \n",
            "                                tes=None, decoder_a                                               \n",
            "                                ttentions=None, cro                                               \n",
            "                                ss_attentions=None,                                               \n",
            "                                 encoder_last_hidde                                               \n",
            "                                n_state=(None, 256,                                               \n",
            "                                 512),                                                            \n",
            "                                 encoder_hidden_sta                                               \n",
            "                                tes=None, encoder_a                                               \n",
            "                                ttentions=None)                                                   \n",
            "                                                                                                  \n",
            " dropout_62 (Dropout)           (None, 256, 512)     0           ['tft5_model[0][1]']             \n",
            "                                                                                                  \n",
            " flatten (Flatten)              (None, 131072)       0           ['dropout_62[0][0]']             \n",
            "                                                                                                  \n",
            " dense (Dense)                  (None, 256)          33554688    ['flatten[0][0]']                \n",
            "                                                                                                  \n",
            " dense_1 (Dense)                (None, 3)            771         ['dense[0][0]']                  \n",
            "                                                                                                  \n",
            "==================================================================================================\n",
            "Total params: 94,062,083\n",
            "Trainable params: 94,062,083\n",
            "Non-trainable params: 0\n",
            "__________________________________________________________________________________________________\n"
          ]
        },
        {
          "output_type": "stream",
          "name": "stderr",
          "text": [
            "/usr/local/lib/python3.7/dist-packages/keras/optimizer_v2/adam.py:105: UserWarning: The `lr` argument is deprecated, use `learning_rate` instead.\n",
            "  super(Adam, self).__init__(name, **kwargs)\n"
          ]
        }
      ]
    },
    {
      "cell_type": "markdown",
      "source": [
        "## Train & Evaluate"
      ],
      "metadata": {
        "id": "RzYG4SHRzoTE"
      }
    },
    {
      "cell_type": "code",
      "source": [
        "# the code in this block was adpated from https://stackoverflow.com/questions/48118111/get-loss-values-for-each-training-instance-keras\n",
        "class LossHistory(keras.callbacks.Callback):\n",
        "    def on_train_begin(self, logs={}):\n",
        "        self.losses = []\n",
        "    def on_batch_end(self, batch, logs={}):\n",
        "        self.losses.append(logs.get('loss'))\n",
        "\n",
        "history = LossHistory()\n",
        "model.fit(X_train, y_train, batch_size=16, epochs=EPOCHS, verbose=1, validation_data=(X_valid,y_valid), callbacks=[history])\n",
        "print(history.losses)\n",
        "\n",
        "\n",
        "plt.plot(history.losses, linestyle = 'dotted')\n",
        "plt.show()\n",
        "\n",
        "# history = model.fit(X_train,y_train,epochs=EPOCHS,batch_size=16,verbose=1,validation_data=(X_test, y_test))"
      ],
      "metadata": {
        "id": "W2lHYZi2U8US",
        "colab": {
          "base_uri": "https://localhost:8080/",
          "height": 468
        },
        "outputId": "15fe46c8-907a-40c1-d29e-cc4c233305cf"
      },
      "execution_count": 17,
      "outputs": [
        {
          "output_type": "stream",
          "name": "stdout",
          "text": [
            "Epoch 1/5\n",
            "206/206 [==============================] - 127s 542ms/step - loss: 0.4235 - accuracy: 0.8214 - val_loss: 0.1391 - val_accuracy: 0.9389\n",
            "Epoch 2/5\n",
            "206/206 [==============================] - 114s 553ms/step - loss: 0.1652 - accuracy: 0.9358 - val_loss: 0.1141 - val_accuracy: 0.9531\n",
            "Epoch 3/5\n",
            "206/206 [==============================] - 114s 552ms/step - loss: 0.1360 - accuracy: 0.9498 - val_loss: 0.1081 - val_accuracy: 0.9574\n",
            "Epoch 4/5\n",
            "206/206 [==============================] - 110s 533ms/step - loss: 0.1216 - accuracy: 0.9553 - val_loss: 0.1321 - val_accuracy: 0.9489\n",
            "Epoch 5/5\n",
            "206/206 [==============================] - 114s 552ms/step - loss: 0.1136 - accuracy: 0.9562 - val_loss: 0.0924 - val_accuracy: 0.9588\n",
            "[1.3453350067138672, 1.235896348953247, 1.2371011972427368, 1.2582730054855347, 1.239883303642273, 1.2196992635726929, 1.2209783792495728, 1.1509740352630615, 1.137430191040039, 1.128139615058899, 1.1100904941558838, 1.090044617652893, 1.084513783454895, 1.0775506496429443, 1.069298505783081, 1.0562667846679688, 1.0423685312271118, 1.0326581001281738, 1.029080867767334, 1.0256731510162354, 1.0080763101577759, 1.0062227249145508, 0.9917540550231934, 0.9961732029914856, 0.9862207770347595, 0.9900384545326233, 0.9898512363433838, 0.9805469512939453, 0.9762691855430603, 0.9700811505317688, 0.9653027653694153, 0.959682047367096, 0.9531905651092529, 0.9466601014137268, 0.9440932273864746, 0.93096923828125, 0.9240310192108154, 0.9189602732658386, 0.9161836504936218, 0.9051406979560852, 0.8924596905708313, 0.8811437487602234, 0.8766759037971497, 0.8693613409996033, 0.8680494427680969, 0.8674283027648926, 0.8605654835700989, 0.854515552520752, 0.8533881306648254, 0.8508245348930359, 0.8499599695205688, 0.8447351455688477, 0.8377035856246948, 0.8345015048980713, 0.8308963179588318, 0.8242140412330627, 0.8186548948287964, 0.8165882229804993, 0.8139728903770447, 0.8072813749313354, 0.8015355467796326, 0.7974605560302734, 0.7939237356185913, 0.791765034198761, 0.7868620753288269, 0.780090868473053, 0.7731525897979736, 0.7680987119674683, 0.7639980912208557, 0.7588011622428894, 0.7531518340110779, 0.7493318915367126, 0.7449976205825806, 0.7392107248306274, 0.7339649200439453, 0.7285287380218506, 0.7242949604988098, 0.7171209454536438, 0.7122624516487122, 0.7062270641326904, 0.7031062245368958, 0.6967818737030029, 0.6942870020866394, 0.6920703053474426, 0.6887460350990295, 0.6852380037307739, 0.681711733341217, 0.6775866150856018, 0.672897219657898, 0.6686813831329346, 0.6650852560997009, 0.6600766777992249, 0.656500518321991, 0.651142418384552, 0.6482383608818054, 0.6448801755905151, 0.6407567262649536, 0.6383106708526611, 0.6354139447212219, 0.6314988136291504, 0.6293867230415344, 0.6280086040496826, 0.6238763332366943, 0.619812548160553, 0.6147468686103821, 0.6129534840583801, 0.6077412962913513, 0.6048022508621216, 0.6014974117279053, 0.5970421433448792, 0.5954931974411011, 0.5980326533317566, 0.5941318273544312, 0.5903763175010681, 0.586757481098175, 0.5873826146125793, 0.5839644074440002, 0.5813953876495361, 0.5781989097595215, 0.5762678980827332, 0.5724820494651794, 0.5687825679779053, 0.5649979710578918, 0.5632917284965515, 0.5593667030334473, 0.5556950569152832, 0.5520240664482117, 0.5507273077964783, 0.5478593707084656, 0.5465227961540222, 0.5436511635780334, 0.5406175851821899, 0.5378948450088501, 0.5348889231681824, 0.532716691493988, 0.5302722454071045, 0.5278326869010925, 0.5279169082641602, 0.524539053440094, 0.5244245529174805, 0.5235376358032227, 0.5202875733375549, 0.5168240070343018, 0.5134936571121216, 0.5107120275497437, 0.5092090964317322, 0.5076914429664612, 0.5053138732910156, 0.5030353665351868, 0.5025454163551331, 0.5025385022163391, 0.5008198618888855, 0.4982996881008148, 0.49540427327156067, 0.49323731660842896, 0.4924851357936859, 0.4894826114177704, 0.48728904128074646, 0.4869803190231323, 0.48547109961509705, 0.4836967885494232, 0.4813319146633148, 0.4799393117427826, 0.4781840741634369, 0.4764268398284912, 0.47492149472236633, 0.4743463695049286, 0.4716417193412781, 0.4693904519081116, 0.46833518147468567, 0.46690356731414795, 0.4646866023540497, 0.464891254901886, 0.46260979771614075, 0.4605364203453064, 0.4587329030036926, 0.4573107659816742, 0.45565006136894226, 0.4533621072769165, 0.4521345794200897, 0.4508034288883209, 0.4499850869178772, 0.4480525255203247, 0.44671905040740967, 0.4465819001197815, 0.4460783004760742, 0.44431424140930176, 0.44228410720825195, 0.4403104782104492, 0.4392797350883484, 0.4380662143230438, 0.43841588497161865, 0.43661490082740784, 0.43561914563179016, 0.43456926941871643, 0.43319064378738403, 0.43193870782852173, 0.4308216869831085, 0.4287167191505432, 0.42966827750205994, 0.42813995480537415, 0.42899465560913086, 0.42711779475212097, 0.4258621037006378, 0.4238934814929962, 0.4235147535800934, 0.12220596522092819, 0.14103099703788757, 0.1059243381023407, 0.11391165107488632, 0.1170424222946167, 0.12288298457860947, 0.13092340528964996, 0.12681631743907928, 0.13111191987991333, 0.13241435587406158, 0.14453096687793732, 0.13832837343215942, 0.13757599890232086, 0.14004962146282196, 0.1439175307750702, 0.14457100629806519, 0.1482812911272049, 0.14129960536956787, 0.14630430936813354, 0.1481899470090866, 0.14397567510604858, 0.1493048071861267, 0.1501939296722412, 0.15429985523223877, 0.15945182740688324, 0.1568978726863861, 0.16033419966697693, 0.15779855847358704, 0.15564464032649994, 0.16400472819805145, 0.1619712859392166, 0.15927419066429138, 0.1608431339263916, 0.15710954368114471, 0.16092418134212494, 0.1648145616054535, 0.16549648344516754, 0.16458448767662048, 0.16407924890518188, 0.16517694294452667, 0.16170890629291534, 0.15817157924175262, 0.16492131352424622, 0.16583290696144104, 0.16599303483963013, 0.1729142814874649, 0.17321783304214478, 0.18633832037448883, 0.18843187391757965, 0.18712355196475983, 0.19212129712104797, 0.19431930780410767, 0.1933358609676361, 0.19377338886260986, 0.19087418913841248, 0.18912839889526367, 0.18991854786872864, 0.18828541040420532, 0.1892082840204239, 0.18867941200733185, 0.18700389564037323, 0.1850658357143402, 0.18271489441394806, 0.1801413744688034, 0.18595606088638306, 0.18596410751342773, 0.1834622323513031, 0.1858467012643814, 0.18722042441368103, 0.18868479132652283, 0.1953945755958557, 0.19324801862239838, 0.19771835207939148, 0.19541390240192413, 0.1960621327161789, 0.19589468836784363, 0.19498880207538605, 0.19726845622062683, 0.19606390595436096, 0.193715438246727, 0.19194041192531586, 0.18981951475143433, 0.18898597359657288, 0.18953731656074524, 0.18772448599338531, 0.1869370937347412, 0.1856933832168579, 0.18902873992919922, 0.1875591278076172, 0.1884690821170807, 0.18711723387241364, 0.18760310113430023, 0.18670064210891724, 0.18637977540493011, 0.18661116063594818, 0.1873588114976883, 0.18690061569213867, 0.1856534332036972, 0.18404337763786316, 0.1827412098646164, 0.1813950091600418, 0.18074719607830048, 0.18024495244026184, 0.18154217302799225, 0.18028299510478973, 0.1792338639497757, 0.18000920116901398, 0.1794571578502655, 0.17889659106731415, 0.17882633209228516, 0.17738455533981323, 0.17671091854572296, 0.1757355034351349, 0.17743706703186035, 0.17737643420696259, 0.17605192959308624, 0.17684294283390045, 0.17651860415935516, 0.1756543219089508, 0.1743687093257904, 0.17309968173503876, 0.1738968938589096, 0.1726491004228592, 0.17456947267055511, 0.175472229719162, 0.17691123485565186, 0.17616914212703705, 0.17555080354213715, 0.1746647208929062, 0.17337679862976074, 0.17716772854328156, 0.17689858376979828, 0.17624221742153168, 0.17512941360473633, 0.17400619387626648, 0.17346325516700745, 0.1734524816274643, 0.1743711680173874, 0.17367807030677795, 0.17328087985515594, 0.17259430885314941, 0.17196184396743774, 0.1722288280725479, 0.17266468703746796, 0.17198467254638672, 0.17175514996051788, 0.17295491695404053, 0.17259365320205688, 0.1722087413072586, 0.17276343703269958, 0.17168669402599335, 0.17223775386810303, 0.17353123426437378, 0.17259274423122406, 0.1729680746793747, 0.17230533063411713, 0.1716841459274292, 0.17103172838687897, 0.17097912728786469, 0.17068755626678467, 0.17110784351825714, 0.17125831544399261, 0.1711892932653427, 0.17027391493320465, 0.16972434520721436, 0.16916850209236145, 0.16888375580310822, 0.1683291494846344, 0.1689557284116745, 0.16872771084308624, 0.16812892258167267, 0.16726908087730408, 0.16733865439891815, 0.16749528050422668, 0.1682678908109665, 0.16814769804477692, 0.16819262504577637, 0.16743406653404236, 0.16697701811790466, 0.16799822449684143, 0.16728690266609192, 0.1665310114622116, 0.16781891882419586, 0.16701588034629822, 0.16688135266304016, 0.16602793335914612, 0.16518588364124298, 0.1647396981716156, 0.1639191210269928, 0.16313888132572174, 0.1637076884508133, 0.16383522748947144, 0.16301901638507843, 0.16261570155620575, 0.1640235185623169, 0.16443473100662231, 0.1655065268278122, 0.16552945971488953, 0.16737936437129974, 0.16705308854579926, 0.1666494756937027, 0.16592822968959808, 0.16549573838710785, 0.16482838988304138, 0.16548925638198853, 0.16519275307655334, 0.0136468056589365, 0.05382153391838074, 0.03758484497666359, 0.03162061795592308, 0.049131229519844055, 0.042553823441267014, 0.04165414720773697, 0.0765596255660057, 0.07453248649835587, 0.08063770085573196, 0.09288356453180313, 0.11125170439481735, 0.12022673338651657, 0.14398135244846344, 0.1358979493379593, 0.14110629260540009, 0.13720791041851044, 0.14601083099842072, 0.14504259824752808, 0.14317402243614197, 0.14151185750961304, 0.15913571417331696, 0.15423348546028137, 0.15415287017822266, 0.1518762707710266, 0.16249045729637146, 0.1568550318479538, 0.1553107649087906, 0.15217864513397217, 0.15015919506549835, 0.16348080337047577, 0.1639271378517151, 0.1722128838300705, 0.16813263297080994, 0.16469469666481018, 0.1611226201057434, 0.1603744477033615, 0.1583928018808365, 0.15640674531459808, 0.15781688690185547, 0.15563857555389404, 0.15256622433662415, 0.15444423258304596, 0.151356041431427, 0.15107335150241852, 0.1481587439775467, 0.15723255276679993, 0.15952186286449432, 0.159295916557312, 0.15997639298439026, 0.1599779576063156, 0.1591467559337616, 0.1606709212064743, 0.15820619463920593, 0.15744605660438538, 0.1555466651916504, 0.1531103104352951, 0.15253014862537384, 0.15224683284759521, 0.1506366729736328, 0.14843040704727173, 0.1509910374879837, 0.1507708877325058, 0.15163032710552216, 0.1497524529695511, 0.14774949848651886, 0.15150782465934753, 0.1528777927160263, 0.15206590294837952, 0.1570531725883484, 0.155192032456398, 0.1532866209745407, 0.15404823422431946, 0.15227490663528442, 0.15290914475917816, 0.1552087962627411, 0.15501408278942108, 0.15329064428806305, 0.15666958689689636, 0.1562943160533905, 0.156363844871521, 0.15615719556808472, 0.15452831983566284, 0.15613706409931183, 0.15527942776679993, 0.15366950631141663, 0.15469563007354736, 0.15338543057441711, 0.153394877910614, 0.15192605555057526, 0.15290917456150055, 0.15145660936832428, 0.15158812701702118, 0.15214449167251587, 0.15346719324588776, 0.15594534575939178, 0.15456444025039673, 0.15466822683811188, 0.15336182713508606, 0.15269725024700165, 0.15141643583774567, 0.15211890637874603, 0.1517680585384369, 0.1523863524198532, 0.15222202241420746, 0.15183483064174652, 0.15113893151283264, 0.1503666192293167, 0.15019719302654266, 0.15109378099441528, 0.15153424441814423, 0.15154929459095, 0.1505056470632553, 0.14934393763542175, 0.14812134206295013, 0.14805887639522552, 0.14717251062393188, 0.14708030223846436, 0.14640192687511444, 0.14528460800647736, 0.14493103325366974, 0.14435763657093048, 0.1452341228723526, 0.14470723271369934, 0.14462003111839294, 0.1443357616662979, 0.14542578160762787, 0.1449146270751953, 0.14500238001346588, 0.14400218427181244, 0.14434528350830078, 0.14348162710666656, 0.1437552273273468, 0.1444377452135086, 0.1439913660287857, 0.1429477483034134, 0.1431799978017807, 0.14251309633255005, 0.144626185297966, 0.14402589201927185, 0.14333541691303253, 0.1432720422744751, 0.14286811649799347, 0.1428956836462021, 0.1430177092552185, 0.1426592469215393, 0.1422039270401001, 0.1413453370332718, 0.1437843143939972, 0.14379289746284485, 0.1434166133403778, 0.14275965094566345, 0.14185795187950134, 0.1418260633945465, 0.14120011031627655, 0.1405978947877884, 0.13997510075569153, 0.14173103868961334, 0.14110906422138214, 0.14178016781806946, 0.14105822145938873, 0.14063787460327148, 0.1404552161693573, 0.139743834733963, 0.13895244896411896, 0.1384769231081009, 0.13831806182861328, 0.13833652436733246, 0.13846923410892487, 0.13816063106060028, 0.13759350776672363, 0.13826727867126465, 0.13804024457931519, 0.13738340139389038, 0.13818253576755524, 0.1377851814031601, 0.1373472362756729, 0.13733717799186707, 0.13727378845214844, 0.13716064393520355, 0.136427104473114, 0.13572753965854645, 0.13569997251033783, 0.13517574965953827, 0.13467994332313538, 0.13463765382766724, 0.13566729426383972, 0.13501973450183868, 0.13457158207893372, 0.13434861600399017, 0.13528570532798767, 0.1350773274898529, 0.13572180271148682, 0.1352727860212326, 0.13594691455364227, 0.13698217272758484, 0.13670574128627777, 0.13806337118148804, 0.13747607171535492, 0.13704484701156616, 0.1374456286430359, 0.13697569072246552, 0.1365005373954773, 0.13656480610370636, 0.13625143468379974, 0.13600468635559082, 0.03127368912100792, 0.10327747464179993, 0.07194266468286514, 0.0735623687505722, 0.07759356498718262, 0.06745775789022446, 0.07471442222595215, 0.09476878494024277, 0.1070878803730011, 0.10120165348052979, 0.09686010330915451, 0.09309428185224533, 0.08682271093130112, 0.08897780627012253, 0.08429530262947083, 0.086708202958107, 0.08768926560878754, 0.09378346800804138, 0.09750809520483017, 0.10320563614368439, 0.09853412955999374, 0.09880530834197998, 0.09543073922395706, 0.09720290452241898, 0.0981418639421463, 0.0979280099272728, 0.09538070112466812, 0.09244773536920547, 0.09967534244060516, 0.09959925711154938, 0.10055803507566452, 0.10687325149774551, 0.1040300503373146, 0.10241395235061646, 0.10361238569021225, 0.10458357632160187, 0.10417621582746506, 0.10656175762414932, 0.1042754203081131, 0.10316034406423569, 0.10073210299015045, 0.10165543854236603, 0.10059290379285812, 0.0988214761018753, 0.09750331193208694, 0.09985825419425964, 0.10495755821466446, 0.10494913905858994, 0.10425951331853867, 0.10256161540746689, 0.10097283869981766, 0.10233983397483826, 0.10233519971370697, 0.10525023192167282, 0.1034262552857399, 0.1026691347360611, 0.10122477263212204, 0.10113587975502014, 0.11286935210227966, 0.11322972923517227, 0.1162896379828453, 0.11477900296449661, 0.11574207991361618, 0.1143365353345871, 0.1127682700753212, 0.11266003549098969, 0.11476016044616699, 0.11315423250198364, 0.11176716536283493, 0.11029623448848724, 0.10923392325639725, 0.10819078236818314, 0.1103966236114502, 0.11107976734638214, 0.11085741966962814, 0.11321337521076202, 0.11182522773742676, 0.11081592738628387, 0.10946644097566605, 0.10999836027622223, 0.10955077409744263, 0.10962633788585663, 0.11038670688867569, 0.11029715836048126, 0.11083733290433884, 0.11117873340845108, 0.1115221232175827, 0.1115240529179573, 0.11220188438892365, 0.11180152744054794, 0.11318984627723694, 0.11236241459846497, 0.11183246225118637, 0.11148817837238312, 0.11264169961214066, 0.11162552982568741, 0.11209402233362198, 0.11319158226251602, 0.11269786208868027, 0.11252794414758682, 0.1118323802947998, 0.11480122804641724, 0.11694208532571793, 0.11955408751964569, 0.1216597780585289, 0.12095199525356293, 0.1209748238325119, 0.12048424035310745, 0.11963058263063431, 0.1186106875538826, 0.12117015570402145, 0.12083061784505844, 0.12165535241365433, 0.1207934245467186, 0.12118436396121979, 0.12092147767543793, 0.11993305385112762, 0.11957580596208572, 0.11902227252721786, 0.11827395856380463, 0.11966004967689514, 0.11962311714887619, 0.12112501263618469, 0.1207261011004448, 0.12152805924415588, 0.1221630796790123, 0.12134748697280884, 0.12193044275045395, 0.12138791382312775, 0.1211482509970665, 0.12045043706893921, 0.12056823819875717, 0.12126162648200989, 0.12077273428440094, 0.12054742872714996, 0.1200505867600441, 0.12309598922729492, 0.1227390468120575, 0.12232592701911926, 0.12154866755008698, 0.12101402133703232, 0.12043695151805878, 0.12029091268777847, 0.11985388398170471, 0.11963693052530289, 0.11982838064432144, 0.11906832456588745, 0.11888514459133148, 0.1189478263258934, 0.11846873164176941, 0.11813858151435852, 0.11822871118783951, 0.11894199997186661, 0.11888960748910904, 0.11934958398342133, 0.11991962045431137, 0.1192314624786377, 0.12157659977674484, 0.12190651148557663, 0.12211152166128159, 0.1214475929737091, 0.12088444828987122, 0.12068192660808563, 0.12046711891889572, 0.1198723316192627, 0.11938045918941498, 0.11986181139945984, 0.12012437731027603, 0.11942539364099503, 0.11875290423631668, 0.11930155754089355, 0.1188933476805687, 0.11835811287164688, 0.11893342435359955, 0.11893481761217117, 0.11906464397907257, 0.11902026832103729, 0.11991862952709198, 0.11985370516777039, 0.11980942636728287, 0.11987768113613129, 0.12094582617282867, 0.12069074809551239, 0.12093310058116913, 0.12032914161682129, 0.11969590187072754, 0.11949840188026428, 0.11988379061222076, 0.11939241737127304, 0.11910459399223328, 0.11992482841014862, 0.11963347345590591, 0.11903378367424011, 0.12091647833585739, 0.12042611092329025, 0.11991202086210251, 0.11947251111268997, 0.1196846216917038, 0.12255863100290298, 0.12212944775819778, 0.12260789424180984, 0.12242405861616135, 0.12275185436010361, 0.12232226878404617, 0.1218070313334465, 0.12159283459186554, 0.0062660216353833675, 0.09618072956800461, 0.15716658532619476, 0.1833752989768982, 0.2092779576778412, 0.22280482947826385, 0.2046867460012436, 0.18123549222946167, 0.17398780584335327, 0.15845926105976105, 0.14499324560165405, 0.15319682657718658, 0.15547531843185425, 0.16785064339637756, 0.15672196447849274, 0.15516260266304016, 0.15964484214782715, 0.15887348353862762, 0.15389832854270935, 0.15099723637104034, 0.14929883182048798, 0.1508273184299469, 0.1539182811975479, 0.1539522260427475, 0.14787748456001282, 0.14858588576316833, 0.14823487401008606, 0.15162476897239685, 0.14979590475559235, 0.1496690958738327, 0.1478767991065979, 0.14384901523590088, 0.14034059643745422, 0.13986289501190186, 0.135902538895607, 0.139061838388443, 0.13576729595661163, 0.1325206309556961, 0.12967662513256073, 0.12703628838062286, 0.12408727407455444, 0.12287792563438416, 0.12107758224010468, 0.12100359797477722, 0.11873678863048553, 0.116264708340168, 0.11906398832798004, 0.11949355155229568, 0.11713232100009918, 0.11746659874916077, 0.11950764060020447, 0.1174367219209671, 0.11685918271541595, 0.11604909598827362, 0.11406029760837555, 0.11254219710826874, 0.11828300356864929, 0.11732909828424454, 0.11871740221977234, 0.1177302896976471, 0.11772839725017548, 0.11672861129045486, 0.11543824523687363, 0.11534326523542404, 0.114717498421669, 0.11559684574604034, 0.11561337113380432, 0.11409302800893784, 0.11296000331640244, 0.11276920884847641, 0.11130023747682571, 0.10986237227916718, 0.11013408750295639, 0.10979073494672775, 0.10876458138227463, 0.10782700777053833, 0.10663610696792603, 0.10890283435583115, 0.11409416794776917, 0.11454503238201141, 0.11472322046756744, 0.11393985152244568, 0.11364409327507019, 0.11466951668262482, 0.11899056285619736, 0.1177360862493515, 0.1176266074180603, 0.11719521880149841, 0.1159438043832779, 0.11644639074802399, 0.11533572524785995, 0.11479571461677551, 0.11399956047534943, 0.11452680826187134, 0.1153387799859047, 0.11485836654901505, 0.11437162756919861, 0.11362878978252411, 0.1133245974779129, 0.11297076940536499, 0.11199790984392166, 0.11123261600732803, 0.11023768782615662, 0.11233948916196823, 0.11380589008331299, 0.11521387845277786, 0.11448586732149124, 0.11755062639713287, 0.11690341681241989, 0.11592143774032593, 0.11607350409030914, 0.11525088548660278, 0.11466500908136368, 0.11453382670879364, 0.11370261013507843, 0.11334586143493652, 0.11243254691362381, 0.11152204871177673, 0.11192715913057327, 0.11186451464891434, 0.11131630837917328, 0.11337937414646149, 0.11309705674648285, 0.11222491413354874, 0.11208277195692062, 0.11125361919403076, 0.11200001090765, 0.11117686331272125, 0.11103828251361847, 0.11189454048871994, 0.1136300340294838, 0.11321331560611725, 0.11695955693721771, 0.11613011360168457, 0.11628728359937668, 0.11605566740036011, 0.11673274636268616, 0.116255983710289, 0.1155981570482254, 0.11495745182037354, 0.1141870766878128, 0.11572542041540146, 0.11660035699605942, 0.11609513312578201, 0.11724939197301865, 0.11695946753025055, 0.1162046417593956, 0.11561467498540878, 0.11533094942569733, 0.1152566522359848, 0.1146240085363388, 0.11388281732797623, 0.11359492689371109, 0.11350972205400467, 0.11401555687189102, 0.11363948881626129, 0.11388212442398071, 0.11383089423179626, 0.11382855474948883, 0.11321856826543808, 0.11272813379764557, 0.11334829032421112, 0.11272209137678146, 0.11257022619247437, 0.11304878443479538, 0.11240930110216141, 0.11178207397460938, 0.11146415024995804, 0.1121026799082756, 0.11154263466596603, 0.11102081090211868, 0.11061111837625504, 0.1111549511551857, 0.1111660897731781, 0.11148911714553833, 0.11178920418024063, 0.11149591952562332, 0.11204449832439423, 0.11288284510374069, 0.11340183764696121, 0.11400090903043747, 0.11339759826660156, 0.11497297137975693, 0.11572424322366714, 0.11580042541027069, 0.11520853638648987, 0.11485892534255981, 0.11464348435401917, 0.11429983377456665, 0.11433408409357071, 0.11401096731424332, 0.11361276358366013, 0.11391574144363403, 0.11336375772953033, 0.11285577714443207, 0.11354287713766098, 0.11454563587903976, 0.11399176716804504, 0.11351919174194336, 0.11300179362297058, 0.11271665245294571, 0.11314921826124191, 0.1129073053598404, 0.1142701655626297, 0.11383452266454697, 0.11364326626062393]\n"
          ]
        },
        {
          "output_type": "display_data",
          "data": {
            "text/plain": [
              "<Figure size 432x288 with 1 Axes>"
            ],
            "image/png": "[encoded data removed]"
          },
          "metadata": {
            "needs_background": "light"
          }
        }
      ]
    },
    {
      "cell_type": "markdown",
      "source": [
        "## Visualizations"
      ],
      "metadata": {
        "id": "VSyQLM6iAYHN"
      }
    },
    {
      "cell_type": "code",
      "source": [
        "def plot_confusion_matrix(X_test, y_test, model):\n",
        "    y_pred = model.predict(X_test)\n",
        "    y_pred = [np.argmax(i) for i in model.predict(X_test)]\n",
        "\n",
        "    con_mat = tf.math.confusion_matrix(labels=y_test, predictions=y_pred).numpy()\n",
        "\n",
        "    con_mat_norm = np.around(con_mat.astype('float') / con_mat.sum(axis=1)[:, np.newaxis], decimals=2)\n",
        "    label_names = list(range(len(con_mat_norm)))\n",
        "\n",
        "    con_mat_df = pd.DataFrame(con_mat_norm,\n",
        "                              index=label_names, \n",
        "                              columns=label_names)\n",
        "\n",
        "    figure = plt.figure(figsize=(10, 10))\n",
        "    sns.heatmap(con_mat_df, cmap=plt.cm.Blues, annot=True)\n",
        "    plt.ylabel('True label')\n",
        "    plt.xlabel('Predicted label')"
      ],
      "metadata": {
        "id": "AGnzixxtAi-v"
      },
      "execution_count": 18,
      "outputs": []
    },
    {
      "cell_type": "code",
      "source": [
        "plot_confusion_matrix(X_test, y_test, model)"
      ],
      "metadata": {
        "id": "lYdnT3T9AlXD",
        "colab": {
          "base_uri": "https://localhost:8080/",
          "height": 604
        },
        "outputId": "bef85714-3877-499f-9bed-8a2303fddc89"
      },
      "execution_count": 19,
      "outputs": [
        {
          "output_type": "display_data",
          "data": {
            "text/plain": [
              "<Figure size 720x720 with 2 Axes>"
            ],
            "image/png": "[encoded data removed]"
          },
          "metadata": {
            "needs_background": "light"
          }
        }
      ]
    },
    {
      "cell_type": "markdown",
      "source": [
        "## Results"
      ],
      "metadata": {
        "id": "glypoYt20U3U"
      }
    },
    {
      "cell_type": "code",
      "source": [
        "y_pred = model.predict(X_test)\n",
        "y_pred = [np.argmax(i) for i in model.predict(X_test)]"
      ],
      "metadata": {
        "id": "1QycHqD2QD6B"
      },
      "execution_count": 20,
      "outputs": []
    },
    {
      "cell_type": "code",
      "source": [
        "print(\"precision: \" + str(precision_score(y_test, y_pred, average=\"micro\")))\n",
        "print(\"recall: \" + str(recall_score(y_test, y_pred, average=\"micro\")))\n",
        "print(\"f1: \" + str(f1_score(y_test, y_pred, average=\"micro\")))\n",
        "print(\"accuracy: \" + str(model.evaluate(X_test, y_test)[1]*100))"
      ],
      "metadata": {
        "id": "T9XYQgHDQETq",
        "colab": {
          "base_uri": "https://localhost:8080/"
        },
        "outputId": "a8e6f4bf-f545-4348-add5-6368347af100"
      },
      "execution_count": 21,
      "outputs": [
        {
          "output_type": "stream",
          "name": "stdout",
          "text": [
            "precision: 0.9617021276595744\n",
            "recall: 0.9617021276595744\n",
            "f1: 0.9617021276595744\n",
            "23/23 [==============================] - 10s 285ms/step - loss: 0.1031 - accuracy: 0.9617\n",
            "accuracy: 96.17021083831787\n"
          ]
        }
      ]
    }
  ]
}